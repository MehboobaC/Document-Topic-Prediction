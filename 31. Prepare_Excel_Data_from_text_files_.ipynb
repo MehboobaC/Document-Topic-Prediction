{
 "cells": [
  {
   "cell_type": "code",
   "execution_count": 43,
   "metadata": {},
   "outputs": [],
   "source": [
    "import pandas as pd"
   ]
  },
  {
   "cell_type": "code",
   "execution_count": 20,
   "metadata": {},
   "outputs": [
    {
     "name": "stdout",
     "output_type": "stream",
     "text": [
      "bbc_dataset\\README.TXT\n",
      "bbc_dataset\\business\n",
      "bbc_dataset\\entertainment\n",
      "bbc_dataset\\politics\n",
      "bbc_dataset\\sport\n",
      "bbc_dataset\\tech\n"
     ]
    }
   ],
   "source": [
    "import os\n",
    "import glob\n",
    "# All image file-names list and target-sentences list are created.\n",
    "i=1\n",
    "path_to_files = os.path.join('C:/Users/user/Downloads/Assignment/bbc_dataset/', '*')\n",
    "for filename in sorted(glob.glob(path_to_files)):\n",
    "    #print(filename)\n",
    "    x=filename.split('/')[-1]\n",
    "    print(x)\n",
    "    i=i+1"
   ]
  },
  {
   "cell_type": "code",
   "execution_count": 66,
   "metadata": {},
   "outputs": [
    {
     "data": {
      "text/html": [
       "<div>\n",
       "<style scoped>\n",
       "    .dataframe tbody tr th:only-of-type {\n",
       "        vertical-align: middle;\n",
       "    }\n",
       "\n",
       "    .dataframe tbody tr th {\n",
       "        vertical-align: top;\n",
       "    }\n",
       "\n",
       "    .dataframe thead th {\n",
       "        text-align: right;\n",
       "    }\n",
       "</style>\n",
       "<table border=\"1\" class=\"dataframe\">\n",
       "  <thead>\n",
       "    <tr style=\"text-align: right;\">\n",
       "      <th></th>\n",
       "      <th>document_topic</th>\n",
       "      <th>document_title</th>\n",
       "      <th>document_content</th>\n",
       "    </tr>\n",
       "  </thead>\n",
       "  <tbody>\n",
       "    <tr>\n",
       "      <th>0</th>\n",
       "      <td>business</td>\n",
       "      <td>Ad sales boost Time Warner profit</td>\n",
       "      <td>Quarterly profits at US media giant TimeWarner...</td>\n",
       "    </tr>\n",
       "    <tr>\n",
       "      <th>1</th>\n",
       "      <td>business</td>\n",
       "      <td>Dollar gains on Greenspan speech</td>\n",
       "      <td>The dollar has hit its highest level against t...</td>\n",
       "    </tr>\n",
       "    <tr>\n",
       "      <th>2</th>\n",
       "      <td>business</td>\n",
       "      <td>Yukos unit buyer faces loan claim</td>\n",
       "      <td>The owners of embattled Russian oil giant Yuko...</td>\n",
       "    </tr>\n",
       "    <tr>\n",
       "      <th>3</th>\n",
       "      <td>business</td>\n",
       "      <td>High fuel prices hit BA's profits</td>\n",
       "      <td>British Airways has blamed high fuel prices fo...</td>\n",
       "    </tr>\n",
       "    <tr>\n",
       "      <th>4</th>\n",
       "      <td>business</td>\n",
       "      <td>Pernod takeover talk lifts Domecq</td>\n",
       "      <td>Shares in UK drinks and food firm Allied Domec...</td>\n",
       "    </tr>\n",
       "    <tr>\n",
       "      <th>...</th>\n",
       "      <td>...</td>\n",
       "      <td>...</td>\n",
       "      <td>...</td>\n",
       "    </tr>\n",
       "    <tr>\n",
       "      <th>2220</th>\n",
       "      <td>tech</td>\n",
       "      <td>BT program to beat dialler scams</td>\n",
       "      <td>BT is introducing two initiatives to help beat...</td>\n",
       "    </tr>\n",
       "    <tr>\n",
       "      <th>2221</th>\n",
       "      <td>tech</td>\n",
       "      <td>Spam e-mails tempt net shoppers</td>\n",
       "      <td>Computer users across the world continue to ig...</td>\n",
       "    </tr>\n",
       "    <tr>\n",
       "      <th>2222</th>\n",
       "      <td>tech</td>\n",
       "      <td>Be careful how you code</td>\n",
       "      <td>A new European directive could put software wr...</td>\n",
       "    </tr>\n",
       "    <tr>\n",
       "      <th>2223</th>\n",
       "      <td>tech</td>\n",
       "      <td>US cyber security chief resigns</td>\n",
       "      <td>The man making sure US computer networks are s...</td>\n",
       "    </tr>\n",
       "    <tr>\n",
       "      <th>2224</th>\n",
       "      <td>tech</td>\n",
       "      <td>Losing yourself in online gaming</td>\n",
       "      <td>Online role playing games are time-consuming, ...</td>\n",
       "    </tr>\n",
       "  </tbody>\n",
       "</table>\n",
       "<p>2225 rows × 3 columns</p>\n",
       "</div>"
      ],
      "text/plain": [
       "     document_topic                     document_title  \\\n",
       "0          business  Ad sales boost Time Warner profit   \n",
       "1          business   Dollar gains on Greenspan speech   \n",
       "2          business  Yukos unit buyer faces loan claim   \n",
       "3          business  High fuel prices hit BA's profits   \n",
       "4          business  Pernod takeover talk lifts Domecq   \n",
       "...             ...                                ...   \n",
       "2220           tech   BT program to beat dialler scams   \n",
       "2221           tech    Spam e-mails tempt net shoppers   \n",
       "2222           tech            Be careful how you code   \n",
       "2223           tech    US cyber security chief resigns   \n",
       "2224           tech   Losing yourself in online gaming   \n",
       "\n",
       "                                       document_content  \n",
       "0     Quarterly profits at US media giant TimeWarner...  \n",
       "1     The dollar has hit its highest level against t...  \n",
       "2     The owners of embattled Russian oil giant Yuko...  \n",
       "3     British Airways has blamed high fuel prices fo...  \n",
       "4     Shares in UK drinks and food firm Allied Domec...  \n",
       "...                                                 ...  \n",
       "2220  BT is introducing two initiatives to help beat...  \n",
       "2221  Computer users across the world continue to ig...  \n",
       "2222  A new European directive could put software wr...  \n",
       "2223  The man making sure US computer networks are s...  \n",
       "2224  Online role playing games are time-consuming, ...  \n",
       "\n",
       "[2225 rows x 3 columns]"
      ]
     },
     "execution_count": 66,
     "metadata": {},
     "output_type": "execute_result"
    }
   ],
   "source": [
    "lst=['business','entertainment','politics','sport','tech']\n",
    "lst1=[]\n",
    "lst2=[]\n",
    "lst3=[]\n",
    "for i in lst:\n",
    "    path='C:/Users/user/Downloads/Assignment/bbc_dataset/'+i\n",
    "    path_to_files = os.path.join(path, '*')\n",
    "    for filename in sorted(glob.glob(path_to_files)):\n",
    "        #print(filename)\n",
    "        x=filename.split('/')[-1]\n",
    "        #print(x)\n",
    "        #document_name=x[-7:]\n",
    "        #print(document_name)\n",
    "        document_topic=x[:-8]\n",
    "        lst1.append(document_topic)\n",
    "        with open(filename) as f:\n",
    "            first_line = f.readline().strip()\n",
    "            #print(first_line)\n",
    "            document_title=first_line\n",
    "            lst2.append(document_title)\n",
    "            #print(document_title)\n",
    "            next(f)\n",
    "            m=''\n",
    "            for line in f:\n",
    "                #print(line.strip())\n",
    "                document_content=line.strip()\n",
    "                m=m+document_content\n",
    "            lst3.append(m)\n",
    "                #print(document_content)\n",
    "d={'document_topic':lst1, 'document_title':lst2, 'document_content':lst3}\n",
    "data=pd.DataFrame(d, columns=['document_topic','document_title','document_content'])\n",
    "data"
   ]
  },
  {
   "cell_type": "code",
   "execution_count": 73,
   "metadata": {},
   "outputs": [
    {
     "name": "stdout",
     "output_type": "stream",
     "text": [
      "DataFrame is written successfully to Excel File.\n"
     ]
    }
   ],
   "source": [
    "# create excel writer object\n",
    "writer = pd.ExcelWriter('Prepared_data.xlsx')\n",
    "# write dataframe to excel\n",
    "data.to_excel(writer, index=False)\n",
    "# save the excel\n",
    "writer.save()\n",
    "print('DataFrame is written successfully to Excel File.')"
   ]
  },
  {
   "cell_type": "code",
   "execution_count": null,
   "metadata": {},
   "outputs": [],
   "source": []
  }
 ],
 "metadata": {
  "kernelspec": {
   "display_name": "Python 3",
   "language": "python",
   "name": "python3"
  },
  "language_info": {
   "codemirror_mode": {
    "name": "ipython",
    "version": 3
   },
   "file_extension": ".py",
   "mimetype": "text/x-python",
   "name": "python",
   "nbconvert_exporter": "python",
   "pygments_lexer": "ipython3",
   "version": "3.8.3"
  }
 },
 "nbformat": 4,
 "nbformat_minor": 4
}
